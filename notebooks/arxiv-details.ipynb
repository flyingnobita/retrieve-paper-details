{
 "cells": [
  {
   "cell_type": "markdown",
   "metadata": {},
   "source": [
    "# Retrieval of arXiv Paper details\n",
    "\n",
    "This notebook retrieve arXiv paper details, including:\n",
    "- title\n",
    "- authors\n",
    "\n",
    "It outputs the above results as Markdown format, which can be copied into Google Doc."
   ]
  },
  {
   "cell_type": "code",
   "execution_count": 4,
   "metadata": {},
   "outputs": [],
   "source": [
    "paper_ids = [\n",
    "    \"2309.07197\", \n",
    "    \"2309.07075\", \n",
    "    \"2309.07022\", \n",
    "    \"2309.06061\", \n",
    "    \"2309.06779\", \n",
    "    \"2309.04274\", \n",
    "    \"2309.01866\"\n",
    "]"
   ]
  },
  {
   "cell_type": "code",
   "execution_count": 5,
   "metadata": {},
   "outputs": [
    {
     "name": "stdout",
     "output_type": "stream",
     "text": [
      "Requirement already satisfied: arxiv in /usr/local/python/3.10.13/lib/python3.10/site-packages (2.1.0)\n",
      "Requirement already satisfied: feedparser==6.0.10 in /usr/local/python/3.10.13/lib/python3.10/site-packages (from arxiv) (6.0.10)\n",
      "Requirement already satisfied: requests==2.31.0 in /home/codespace/.local/lib/python3.10/site-packages (from arxiv) (2.31.0)\n",
      "Requirement already satisfied: sgmllib3k in /usr/local/python/3.10.13/lib/python3.10/site-packages (from feedparser==6.0.10->arxiv) (1.0.0)\n",
      "Requirement already satisfied: charset-normalizer<4,>=2 in /home/codespace/.local/lib/python3.10/site-packages (from requests==2.31.0->arxiv) (3.3.2)\n",
      "Requirement already satisfied: idna<4,>=2.5 in /home/codespace/.local/lib/python3.10/site-packages (from requests==2.31.0->arxiv) (3.6)\n",
      "Requirement already satisfied: urllib3<3,>=1.21.1 in /usr/local/python/3.10.13/lib/python3.10/site-packages (from requests==2.31.0->arxiv) (2.0.7)\n",
      "Requirement already satisfied: certifi>=2017.4.17 in /home/codespace/.local/lib/python3.10/site-packages (from requests==2.31.0->arxiv) (2024.2.2)\n",
      "Note: you may need to restart the kernel to use updated packages.\n"
     ]
    }
   ],
   "source": [
    "%pip install arxiv\n",
    "import arxiv"
   ]
  },
  {
   "cell_type": "code",
   "execution_count": 6,
   "metadata": {},
   "outputs": [
    {
     "name": "stderr",
     "output_type": "stream",
     "text": [
      "/tmp/ipykernel_3835/3796227808.py:5: DeprecationWarning: The 'Search.results' method is deprecated, use 'Client.results' instead\n",
      "  for result in search.results():\n"
     ]
    }
   ],
   "source": [
    "search = arxiv.Search(\n",
    "    id_list=paper_ids\n",
    ")\n",
    "final_results = []\n",
    "for result in search.results():\n",
    "\n",
    "    # print(result.title)\n",
    "    # print(result.pdf_url)    \n",
    "    # print(result.authors)\n",
    "    \n",
    "    authors_string = \"by \"\n",
    "    for author in result.authors:\n",
    "        \n",
    "        if author == result.authors[-2]:\n",
    "            authors_string = authors_string + str(author) + \" and \"\n",
    "        elif author == result.authors[-1]:\n",
    "            authors_string = authors_string + str(author)\n",
    "        else:\n",
    "            authors_string = authors_string + str(author) + \", \"\n",
    "                \n",
    "    google_doc_text = \"- [\" + result.title + \"](\" + result.pdf_url + \") \" + authors_string\n",
    "    # print(google_doc_text)\n",
    "    final_results.append(google_doc_text)\n",
    "        "
   ]
  },
  {
   "cell_type": "code",
   "execution_count": 7,
   "metadata": {},
   "outputs": [
    {
     "data": {
      "text/markdown": [
       "- [Mitigating Adversarial Attacks in Federated Learning with Trusted Execution Environments](http://arxiv.org/pdf/2309.07197v1) by Simon Queyrut, Valerio Schiavoni and Pascal Felber"
      ],
      "text/plain": [
       "<IPython.core.display.Markdown object>"
      ]
     },
     "metadata": {},
     "output_type": "display_data"
    },
    {
     "data": {
      "text/markdown": [
       "- [Chained-DP: Can We Recycle Privacy Budget?](http://arxiv.org/pdf/2309.07075v3) by Jingyi Li, Guangjing Huang, Liekang Zeng, Lin Chen and Xu Chen"
      ],
      "text/plain": [
       "<IPython.core.display.Markdown object>"
      ]
     },
     "metadata": {},
     "output_type": "display_data"
    },
    {
     "data": {
      "text/markdown": [
       "- [Cryptography: Against AI and QAI Odds](http://arxiv.org/pdf/2309.07022v1) by Sheetal Harris, Hassan Jalil Hadi and Umer Zukaib"
      ],
      "text/plain": [
       "<IPython.core.display.Markdown object>"
      ]
     },
     "metadata": {},
     "output_type": "display_data"
    },
    {
     "data": {
      "text/markdown": [
       "- [Verifiable Fairness: Privacy-preserving Computation of Fairness for Machine Learning Systems](http://arxiv.org/pdf/2309.06061v1) by Ehsan Toreini, Maryam Mehrnezhad and Aad van Moorsel"
      ],
      "text/plain": [
       "<IPython.core.display.Markdown object>"
      ]
     },
     "metadata": {},
     "output_type": "display_data"
    },
    {
     "data": {
      "text/markdown": [
       "- [ZKROWNN: Zero Knowledge Right of Ownership for Neural Networks](http://arxiv.org/pdf/2309.06779v1) by Nojan Sheybani, Zahra Ghodsi, Ritvik Kapila and Farinaz Koushanfar"
      ],
      "text/plain": [
       "<IPython.core.display.Markdown object>"
      ]
     },
     "metadata": {},
     "output_type": "display_data"
    },
    {
     "data": {
      "text/markdown": [
       "- [Data-Flow-Based Normalization Generation Algorithm of R1CS for Zero-Knowledge Proof](http://arxiv.org/pdf/2309.04274v2) by Chenhao Shi, Hao Chen, Ruibang Liu and Guoqiang Li"
      ],
      "text/plain": [
       "<IPython.core.display.Markdown object>"
      ]
     },
     "metadata": {},
     "output_type": "display_data"
    },
    {
     "data": {
      "text/markdown": [
       "- [Efficient Query-Based Attack against ML-Based Android Malware Detection under Zero Knowledge Setting](http://arxiv.org/pdf/2309.01866v2) by Ping He, Yifan Xia, Xuhong Zhang and Shouling Ji"
      ],
      "text/plain": [
       "<IPython.core.display.Markdown object>"
      ]
     },
     "metadata": {},
     "output_type": "display_data"
    }
   ],
   "source": [
    "from IPython.display import display, Markdown, Latex\n",
    "\n",
    "for result in final_results:\n",
    "    display(Markdown(result))"
   ]
  },
  {
   "cell_type": "code",
   "execution_count": null,
   "metadata": {},
   "outputs": [],
   "source": []
  }
 ],
 "metadata": {
  "kernelspec": {
   "display_name": "Python 3",
   "language": "python",
   "name": "python3"
  },
  "language_info": {
   "codemirror_mode": {
    "name": "ipython",
    "version": 3
   },
   "file_extension": ".py",
   "mimetype": "text/x-python",
   "name": "python",
   "nbconvert_exporter": "python",
   "pygments_lexer": "ipython3",
   "version": "3.10.13"
  }
 },
 "nbformat": 4,
 "nbformat_minor": 2
}
