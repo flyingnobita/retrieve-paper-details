{
 "cells": [
  {
   "cell_type": "markdown",
   "metadata": {},
   "source": [
    "# Retrieval of IACR Paper details\n",
    "\n",
    "This notebook retrieve IACR paper details, including:\n",
    "- title\n",
    "- authors\n",
    "\n",
    "It outputs the above results as Markdown format, which can be copied into Google Doc."
   ]
  },
  {
   "cell_type": "code",
   "execution_count": 1,
   "metadata": {},
   "outputs": [],
   "source": [
    "paper_urls = [\n",
    "    \"https://eprint.iacr.org/2023/1405\",\n",
    "    \"https://eprint.iacr.org/2023/846\",\n",
    "    \"https://eprint.iacr.org/2023/1469\",\n",
    "    \"https://eprint.iacr.org/2023/1057\",\n",
    "    \"https://eprint.iacr.org/2023/1470\",\n",
    "    \"https://eprint.iacr.org/2023/1415\",\n",
    "    \"https://eprint.iacr.org/2023/1473\",\n",
    "    \"https://eprint.iacr.org/2023/1476\",\n",
    "]"
   ]
  },
  {
   "cell_type": "code",
   "execution_count": 2,
   "metadata": {},
   "outputs": [],
   "source": [
    "import requests\n",
    "from bs4 import BeautifulSoup"
   ]
  },
  {
   "cell_type": "code",
   "execution_count": 3,
   "metadata": {},
   "outputs": [],
   "source": [
    "def get_iacr_paper_details(url):\n",
    "    # Fetch the page content\n",
    "    response = requests.get(url)\n",
    "    response.raise_for_status()\n",
    "\n",
    "    # Parse the page content with BeautifulSoup\n",
    "    soup = BeautifulSoup(response.text, 'html.parser')\n",
    "    \n",
    "    # Extract the title\n",
    "    title_tag = soup.find('h3', {'class': 'mb-3'})\n",
    "    title = title_tag.text.strip() if title_tag else \"Title not found\"\n",
    "\n",
    "    # author_tags = soup.find_all('div', {'class': 'author'})\n",
    "    # authors = [author.text for author in author_tags] if author_tags else [\"Authors not found\"]\n",
    "\n",
    "    # Extract the authors\n",
    "    author_tags = soup.find_all('div', {'class': 'author'})\n",
    "    authors = [author.find('span', {'class': 'authorName'}).text for author in author_tags if author.find('span', {'class': 'authorName'})]\n",
    "\n",
    "\n",
    "    return {\n",
    "        'title': title,\n",
    "        'authors': authors\n",
    "    }"
   ]
  },
  {
   "cell_type": "code",
   "execution_count": 4,
   "metadata": {},
   "outputs": [],
   "source": [
    "if __name__ == '__main__':\n",
    "\n",
    "    # for url in paper_urls:\n",
    "    #     details = get_iacr_paper_details(url)\n",
    "    #     print(f\"URL: {url}\")\n",
    "    #     print(f\"Title: {details['title']}\")\n",
    "    #     print(f\"Authors: {', '.join(details['authors'])}\")\n",
    "    #     print('-' * 80)\n",
    "    \n",
    "    final_results = []\n",
    "    for url in paper_urls:\n",
    "        details = get_iacr_paper_details(url)\n",
    "        google_doc_text = \"- [\" + details['title'] + \"]\"\n",
    "        authors_string = \"by \"\n",
    "        for author in details['authors']:\n",
    "            if len(details['authors']) == 1:\n",
    "                authors_string = authors_string + str(author)\n",
    "            elif len(details['authors']) == 2:\n",
    "                if author == details['authors'][-1]:\n",
    "                    authors_string = authors_string + str(author)\n",
    "                else:\n",
    "                    authors_string = authors_string + str(author) + \" and \"\n",
    "            else:\n",
    "                if author == details['authors'][-2]:\n",
    "                    authors_string = authors_string + str(author) + \" and \"\n",
    "                elif author == details['authors'][-1]:\n",
    "                    authors_string = authors_string + str(author)\n",
    "                else:\n",
    "                    authors_string = authors_string + str(author) + \", \"\n",
    "            \n",
    "                \n",
    "        google_doc_text = google_doc_text + \"(\" + url + \") \" + authors_string\n",
    "        # print(google_doc_text)\n",
    "        final_results.append(google_doc_text)"
   ]
  },
  {
   "cell_type": "code",
   "execution_count": 5,
   "metadata": {},
   "outputs": [
    {
     "data": {
      "text/markdown": [
       "- [Lattice-based Succinct Arguments from Vanishing Polynomials](https://eprint.iacr.org/2023/1405) by Valerio Cini, Russell W. F. Lai and Giulio Malavolta"
      ],
      "text/plain": [
       "<IPython.core.display.Markdown object>"
      ]
     },
     "metadata": {},
     "output_type": "display_data"
    },
    {
     "data": {
      "text/markdown": [
       "- [Lattice-Based Polynomial Commitments: Towards Asymptotic and Concrete Efficiency](https://eprint.iacr.org/2023/846) by Giacomo Fenzi, Hossein Moghaddas and Ngoc Khanh Nguyen"
      ],
      "text/plain": [
       "<IPython.core.display.Markdown object>"
      ]
     },
     "metadata": {},
     "output_type": "display_data"
    },
    {
     "data": {
      "text/markdown": [
       "- [SLAP: Succinct Lattice-Based Polynomial Commitments from Standard Assumptions](https://eprint.iacr.org/2023/1469) by Martin R. Albrecht, Giacomo Fenzi, Oleksandra Lapiha and Ngoc Khanh Nguyen"
      ],
      "text/plain": [
       "<IPython.core.display.Markdown object>"
      ]
     },
     "metadata": {},
     "output_type": "display_data"
    },
    {
     "data": {
      "text/markdown": [
       "- [ZK-for-Z2K: MPC-in-the-Head Zero-Knowledge Proofs for $\\mathbb{Z}_{2^k}$](https://eprint.iacr.org/2023/1057) by Lennart Braun, Cyprien Delpech de Saint Guilhem, Robin Jadoul, Emmanuela Orsini, Nigel P. Smart and Titouan Tanguy"
      ],
      "text/plain": [
       "<IPython.core.display.Markdown object>"
      ]
     },
     "metadata": {},
     "output_type": "display_data"
    },
    {
     "data": {
      "text/markdown": [
       "- [Zero-Knowledge Systems from MPC-in-the-Head and Oblivious Transfer](https://eprint.iacr.org/2023/1470) by Cyprien Delpech de Saint Guilhem, Ehsan Ebrahimi and Barry van Leeuwen"
      ],
      "text/plain": [
       "<IPython.core.display.Markdown object>"
      ]
     },
     "metadata": {},
     "output_type": "display_data"
    },
    {
     "data": {
      "text/markdown": [
       "- [Generalized Fuzzy Password-Authenticated Key Exchange from Error Correcting Codes](https://eprint.iacr.org/2023/1415) by Jonathan Bootle, Sebastian Faller, Julia Hesse, Kristina Hostáková and Johannes Ottenhues"
      ],
      "text/plain": [
       "<IPython.core.display.Markdown object>"
      ]
     },
     "metadata": {},
     "output_type": "display_data"
    },
    {
     "data": {
      "text/markdown": [
       "- [Cicada: A framework for private non-interactive on-chain auctions and voting](https://eprint.iacr.org/2023/1473) by Noemi Glaeser, István András Seres, Michael Zhu and Joseph Bonneau"
      ],
      "text/plain": [
       "<IPython.core.display.Markdown object>"
      ]
     },
     "metadata": {},
     "output_type": "display_data"
    },
    {
     "data": {
      "text/markdown": [
       "- [Auditable Obfuscation](https://eprint.iacr.org/2023/1476) by Shalini Banerjee and Steven D. Galbraith"
      ],
      "text/plain": [
       "<IPython.core.display.Markdown object>"
      ]
     },
     "metadata": {},
     "output_type": "display_data"
    }
   ],
   "source": [
    "from IPython.display import display, Markdown, Latex\n",
    "\n",
    "for result in final_results:\n",
    "    display(Markdown(result))"
   ]
  }
 ],
 "metadata": {
  "kernelspec": {
   "display_name": "Python 3",
   "language": "python",
   "name": "python3"
  },
  "language_info": {
   "codemirror_mode": {
    "name": "ipython",
    "version": 3
   },
   "file_extension": ".py",
   "mimetype": "text/x-python",
   "name": "python",
   "nbconvert_exporter": "python",
   "pygments_lexer": "ipython3",
   "version": "3.10.13"
  }
 },
 "nbformat": 4,
 "nbformat_minor": 2
}
